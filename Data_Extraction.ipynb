{
 "cells": [
  {
   "cell_type": "code",
   "execution_count": 4,
   "metadata": {},
   "outputs": [],
   "source": [
    "from pytube import YouTube\n",
    "from pytube import Playlist\n",
    "import os\n",
    "import moviepy.editor as mp\n",
    "import re"
   ]
  },
  {
   "cell_type": "code",
   "execution_count": 5,
   "metadata": {},
   "outputs": [],
   "source": [
    "def extract_music(url : str, path : str):\n",
    "    playlist : Playlist = Playlist(url)\n",
    "    for url in playlist:\n",
    "        YouTube(url).streams.filter(only_audio=True).first().download(output_path=path)\n",
    "    for file in os.listdir(path):\n",
    "        if re.search('mp4', file):\n",
    "            mp4_path = os.path.join(path,file)\n",
    "            mp3_path = os.path.join(path,os.path.splitext(file)[0]+'.mp3')\n",
    "            new_file = mp.AudioFileClip(mp4_path)\n",
    "            new_file.write_audiofile(mp3_path)\n",
    "            os.remove(mp4_path)"
   ]
  }
 ],
 "metadata": {
  "kernelspec": {
   "display_name": "GRP",
   "language": "python",
   "name": "python3"
  },
  "language_info": {
   "codemirror_mode": {
    "name": "ipython",
    "version": 3
   },
   "file_extension": ".py",
   "mimetype": "text/x-python",
   "name": "python",
   "nbconvert_exporter": "python",
   "pygments_lexer": "ipython3",
   "version": "3.10.12"
  }
 },
 "nbformat": 4,
 "nbformat_minor": 2
}
