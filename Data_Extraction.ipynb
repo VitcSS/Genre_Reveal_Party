{
 "cells": [
  {
   "cell_type": "code",
   "execution_count": 2,
   "metadata": {},
   "outputs": [],
   "source": [
    "from pytube import YouTube\n",
    "from pytube import Playlist\n",
    "import os\n",
    "import moviepy.editor as mp\n",
    "import re"
   ]
  },
  {
   "cell_type": "code",
   "execution_count": 3,
   "metadata": {},
   "outputs": [],
   "source": [
    "playlist = Playlist(\"https://www.youtube.com/playlist?list=PLQD9v8pn7Xi7bqIfuq-Q6h_9aeuMpPpel\")"
   ]
  },
  {
   "cell_type": "code",
   "execution_count": 4,
   "metadata": {},
   "outputs": [
    {
     "name": "stdout",
     "output_type": "stream",
     "text": [
      "https://www.youtube.com/watch?v=CEwuXexraho\n",
      "https://www.youtube.com/watch?v=QDX-1GuF2Gs\n",
      "https://www.youtube.com/watch?v=Z7CTnA3dTU0\n",
      "https://www.youtube.com/watch?v=9sjWU5dGcGI\n",
      "https://www.youtube.com/watch?v=GdvY_eNxJCw\n",
      "https://www.youtube.com/watch?v=-9T5fLmn7rY\n",
      "https://www.youtube.com/watch?v=iH4eRWDfcN8\n",
      "https://www.youtube.com/watch?v=qbk9Aj-QkhY\n",
      "https://www.youtube.com/watch?v=7MQfHd3QUUM\n",
      "https://www.youtube.com/watch?v=S-l6a34mwWw\n",
      "https://www.youtube.com/watch?v=GTarlWQjil0\n",
      "https://www.youtube.com/watch?v=v8JbaHScYzU\n",
      "https://www.youtube.com/watch?v=-mSRraXCY9w\n",
      "https://www.youtube.com/watch?v=LdQjndOvNn4\n",
      "https://www.youtube.com/watch?v=PrIk7dROF-c\n",
      "https://www.youtube.com/watch?v=BsGnMpSVixg\n",
      "https://www.youtube.com/watch?v=ntLop32pYd0\n",
      "https://www.youtube.com/watch?v=W9P_qUnMaFg\n",
      "https://www.youtube.com/watch?v=8wKGsvkfMbY\n",
      "https://www.youtube.com/watch?v=5hEh9LiSzow\n",
      "https://www.youtube.com/watch?v=HJjL92ZBRio\n",
      "https://www.youtube.com/watch?v=DArzZ3RvejU\n",
      "https://www.youtube.com/watch?v=T7K0pZ9tGi4\n",
      "https://www.youtube.com/watch?v=0t2tjNqGyJI\n",
      "https://www.youtube.com/watch?v=s8XIgR5OGJc\n",
      "https://www.youtube.com/watch?v=bvltaWCxFl0\n",
      "https://www.youtube.com/watch?v=gxE4ngu78Ro\n",
      "https://www.youtube.com/watch?v=otNN8A4rtI0\n",
      "https://www.youtube.com/watch?v=VSaGPWDWeG0\n",
      "https://www.youtube.com/watch?v=Axq1FHwFMrQ\n",
      "https://www.youtube.com/watch?v=zl5I61QY3Us\n",
      "https://www.youtube.com/watch?v=dSYu8FLVr_Y\n",
      "https://www.youtube.com/watch?v=IQTzlGLvCAU\n",
      "https://www.youtube.com/watch?v=hTVDRhFEfb0\n",
      "https://www.youtube.com/watch?v=05v9CDwxwJk\n",
      "<pytube.__main__.YouTube object: videoId=CEwuXexraho>\n",
      "<pytube.__main__.YouTube object: videoId=QDX-1GuF2Gs>\n",
      "<pytube.__main__.YouTube object: videoId=Z7CTnA3dTU0>\n",
      "<pytube.__main__.YouTube object: videoId=9sjWU5dGcGI>\n",
      "<pytube.__main__.YouTube object: videoId=GdvY_eNxJCw>\n",
      "<pytube.__main__.YouTube object: videoId=-9T5fLmn7rY>\n",
      "<pytube.__main__.YouTube object: videoId=iH4eRWDfcN8>\n",
      "<pytube.__main__.YouTube object: videoId=qbk9Aj-QkhY>\n",
      "<pytube.__main__.YouTube object: videoId=7MQfHd3QUUM>\n",
      "<pytube.__main__.YouTube object: videoId=S-l6a34mwWw>\n",
      "<pytube.__main__.YouTube object: videoId=GTarlWQjil0>\n",
      "<pytube.__main__.YouTube object: videoId=v8JbaHScYzU>\n",
      "<pytube.__main__.YouTube object: videoId=-mSRraXCY9w>\n",
      "<pytube.__main__.YouTube object: videoId=LdQjndOvNn4>\n",
      "<pytube.__main__.YouTube object: videoId=PrIk7dROF-c>\n",
      "<pytube.__main__.YouTube object: videoId=BsGnMpSVixg>\n",
      "<pytube.__main__.YouTube object: videoId=ntLop32pYd0>\n",
      "<pytube.__main__.YouTube object: videoId=W9P_qUnMaFg>\n",
      "<pytube.__main__.YouTube object: videoId=8wKGsvkfMbY>\n",
      "<pytube.__main__.YouTube object: videoId=5hEh9LiSzow>\n",
      "<pytube.__main__.YouTube object: videoId=HJjL92ZBRio>\n",
      "<pytube.__main__.YouTube object: videoId=DArzZ3RvejU>\n",
      "<pytube.__main__.YouTube object: videoId=T7K0pZ9tGi4>\n",
      "<pytube.__main__.YouTube object: videoId=0t2tjNqGyJI>\n",
      "<pytube.__main__.YouTube object: videoId=s8XIgR5OGJc>\n",
      "<pytube.__main__.YouTube object: videoId=bvltaWCxFl0>\n",
      "<pytube.__main__.YouTube object: videoId=gxE4ngu78Ro>\n",
      "<pytube.__main__.YouTube object: videoId=otNN8A4rtI0>\n",
      "<pytube.__main__.YouTube object: videoId=VSaGPWDWeG0>\n",
      "<pytube.__main__.YouTube object: videoId=Axq1FHwFMrQ>\n",
      "<pytube.__main__.YouTube object: videoId=zl5I61QY3Us>\n",
      "<pytube.__main__.YouTube object: videoId=dSYu8FLVr_Y>\n",
      "<pytube.__main__.YouTube object: videoId=IQTzlGLvCAU>\n",
      "<pytube.__main__.YouTube object: videoId=hTVDRhFEfb0>\n",
      "<pytube.__main__.YouTube object: videoId=05v9CDwxwJk>\n"
     ]
    }
   ],
   "source": [
    "#prints each video url, which is the same as iterating through playlist.video_urls\n",
    "for url in playlist:\n",
    "    print(url)\n",
    "#prints address of each YouTube object in the playlist\n",
    "for vid in playlist.videos:\n",
    "    print(vid)"
   ]
  },
  {
   "cell_type": "code",
   "execution_count": 5,
   "metadata": {},
   "outputs": [],
   "source": [
    "for url in playlist:\n",
    "   YouTube(url).streams.filter(only_audio=True).first().download()"
   ]
  }
 ],
 "metadata": {
  "kernelspec": {
   "display_name": "GRP",
   "language": "python",
   "name": "python3"
  },
  "language_info": {
   "codemirror_mode": {
    "name": "ipython",
    "version": 3
   },
   "file_extension": ".py",
   "mimetype": "text/x-python",
   "name": "python",
   "nbconvert_exporter": "python",
   "pygments_lexer": "ipython3",
   "version": "3.10.12"
  }
 },
 "nbformat": 4,
 "nbformat_minor": 2
}
